{
 "cells": [
  {
   "cell_type": "markdown",
   "metadata": {},
   "source": [
    "### WEATHER API"
   ]
  },
  {
   "cell_type": "code",
   "execution_count": null,
   "metadata": {},
   "outputs": [],
   "source": [
    "import requests\n",
    "import numpy as np\n",
    "import pandas as pd\n",
    "API_KEY = \"\"\n",
    "CITY = \"Boston,US\"\n",
    "WEATHER_URL = f\"http://api.weatherapi.com/v1/current.json?key={API_KEY}&q={CITY}&aqi=yes\""
   ]
  },
  {
   "cell_type": "code",
   "execution_count": null,
   "metadata": {},
   "outputs": [],
   "source": [
    "response = requests.get(WEATHER_URL)\n",
    "response.status_code"
   ]
  },
  {
   "cell_type": "code",
   "execution_count": null,
   "metadata": {},
   "outputs": [],
   "source": [
    "data = response.json()[\"current\"]\n",
    "time = data[\"last_updated\"]\n",
    "temperature = data[\"temp_c\"]\n",
    "precip_mm = data[\"precip_mm\"]\n",
    "humidity = data[\"humidity\"]\n",
    "wind_kph = data[\"wind_kph\"]\n",
    "aq = data[\"air_quality\"]"
   ]
  },
  {
   "cell_type": "code",
   "execution_count": null,
   "metadata": {},
   "outputs": [],
   "source": [
    "print(time)\n",
    "print(temperature)\n",
    "print(precip_mm)\n",
    "print(humidity)\n",
    "print(wind_kph)\n",
    "print(aq)"
   ]
  },
  {
   "cell_type": "code",
   "execution_count": null,
   "metadata": {},
   "outputs": [],
   "source": [
    "ALERTS_URL = f\"http://api.weatherapi.com/v1/alerts.json?key={API_KEY}&q={CITY}\"\n",
    "response = requests.get(ALERTS_URL)\n",
    "response.status_code\n",
    "alerts = response.json()[\"alerts\"][\"alert\"]"
   ]
  },
  {
   "cell_type": "markdown",
   "metadata": {},
   "source": [
    "\n",
    "### MBTA API"
   ]
  },
  {
   "cell_type": "code",
   "execution_count": null,
   "metadata": {},
   "outputs": [],
   "source": [
    "import requests\n",
    "import numpy as np\n",
    "import pandas as pd\n",
    "\n",
    "MBTA_URL = \"https://api-v3.mbta.com/\"\n",
    "VEHICLES = \"vehicles?filter[route_type]=3\"\n",
    "SCHEDULE = lambda trip, stop: f\"schedules?filter[trip]={trip}&filter[stop]={stop}\"\n",
    "PREDICTION = lambda trip, stop: f\"predictions?filter[trip]={trip}&filter[stop]={stop}\"\n",
    "ROUTES = \"routes?filter[type]=3\""
   ]
  },
  {
   "cell_type": "code",
   "execution_count": null,
   "metadata": {},
   "outputs": [],
   "source": [
    "response = requests.get(MBTA_URL + VEHICLES)\n",
    "print(f\"status: {response.status_code}\")\n",
    "\n",
    "if response.status_code == 200:\n",
    "    vehicles = response.json()[\"data\"]\n",
    "    print(vehicles[0])\n",
    "    print(f\"number of vehicles {len(vehicles)}\")\n",
    "\n",
    "    vehicles_per_route = {}\n",
    "    for v in vehicles:\n",
    "        vid = v[\"id\"]\n",
    "        route = v[\"relationships\"][\"route\"][\"data\"][\"id\"]\n",
    "\n",
    "        if route not in vehicles_per_route.keys():\n",
    "            vehicles_per_route[route] = [vid]\n",
    "        else:\n",
    "            vehicles_per_route[route].append(vid)\n",
    "\n",
    "    print(f\"number of routes {len(vehicles_per_route.keys())}\")\n",
    "\n",
    "    data = []\n",
    "    for r, vehicles in vehicles_per_route.items():\n",
    "        for v in vehicles:\n",
    "            data.append((r, v))\n",
    "\n",
    "    df = pd.DataFrame(data, columns=[\"route_id\", \"vehicle_id\"])\n",
    "    df.to_csv(\"routes_vehicles.csv\", index=False)"
   ]
  },
  {
   "cell_type": "code",
   "execution_count": null,
   "metadata": {},
   "outputs": [],
   "source": [
    "response = requests.get(MBTA_URL + ROUTES)"
   ]
  },
  {
   "cell_type": "code",
   "execution_count": null,
   "metadata": {},
   "outputs": [],
   "source": [
    "routes = response.json()[\"data\"]\n",
    "print(f\"number of routes {len(routes)}\")\n",
    "\n",
    "routes = set([r[\"id\"] for r in routes])"
   ]
  },
  {
   "cell_type": "code",
   "execution_count": null,
   "metadata": {},
   "outputs": [],
   "source": [
    "df = pd.read_csv(\"routes_vehicles.csv\")\n",
    "print(routes.difference(set(df[\"route_id\"].values)))\n",
    "print(set(df[\"route_id\"].values).difference(routes))"
   ]
  },
  {
   "cell_type": "code",
   "execution_count": null,
   "metadata": {},
   "outputs": [],
   "source": [
    "sorted_grs = df.groupby(\"route_id\").size().sort_values(ascending=False)\n",
    "top = list(sorted_grs.head(11).items())[1:]\n",
    "routes_to_plot = [x[0] for x in top] "
   ]
  },
  {
   "cell_type": "code",
   "execution_count": null,
   "metadata": {},
   "outputs": [],
   "source": [
    "from datetime import datetime\n",
    "import time\n",
    "\n",
    "response = requests.get(MBTA_URL + VEHICLES)\n",
    "print(f\"status: {response.status_code}\")\n",
    "\n",
    "def get_time_diff(t1, t2):\n",
    "    t1 = datetime.fromisoformat(t1)\n",
    "    t2 = datetime.fromisoformat(t2)    \n",
    "    diff = t1 - t2\n",
    "\n",
    "    return diff.total_seconds() / 60\n",
    "\n",
    "if response.status_code == 200:\n",
    "    vehicles = response.json()[\"data\"]\n",
    "\n",
    "    # chose first vehicle\n",
    "    vehicle = vehicles[1]\n",
    "    vid = vehicle[\"id\"]\n",
    "    \n",
    "    print(vid)\n",
    "    trip_id = vehicle[\"relationships\"][\"trip\"][\"data\"][\"id\"]\n",
    "    stop_id = vehicle[\"relationships\"][\"stop\"][\"data\"][\"id\"]\n",
    "\n",
    "    headers = {\n",
    "        \"Accept\": \"application/json\",\n",
    "    }\n",
    "    \n",
    "    sch = requests.get(MBTA_URL + SCHEDULE(trip_id, stop_id), headers=headers)\n",
    "    print(response.headers)\n",
    "   \n",
    "    pred = requests.get(MBTA_URL + PREDICTION(trip_id, stop_id), headers=headers)\n",
    "    \n",
    "    sch = sch.json()[\"data\"][0][\"attributes\"]\n",
    "    pred = pred.json()[\"data\"][0][\"attributes\"]\n",
    "\n",
    "    target = \"arrival_time\"\n",
    "    if sch[target] == None:\n",
    "        target = \"departure_time\"\n",
    "\n",
    "    diff = get_time_diff(pred[target], sch[target])\n",
    "    \n",
    "    if diff > 0:\n",
    "        print(f\"delay is {diff} min\")\n",
    "    else:\n",
    "        print(f\"is eraly by {diff} min\")\n",
    "\n",
    "    if response.status_code == 200:\n",
    "        data = response.json()[\"data\"]\n",
    "        print(len(data))    \n",
    "        print(data)"
   ]
  },
  {
   "cell_type": "code",
   "execution_count": null,
   "metadata": {},
   "outputs": [],
   "source": [
    "import folium\n",
    "\n",
    "sorted_grs = df.groupby(\"route_id\").size().sort_values(ascending=False)\n",
    "top = list(sorted_grs.head(6).items())[1:]\n",
    "routes = [x[0] for x in top] \n",
    "colors = [\"red\", \"blue\", \"green\", \"orange\", \"purple\"]\n",
    "\n",
    "def get_stops(rid):\n",
    "    response = requests.get(MBTA_URL + f\"stops?filter[route]={rid}\")\n",
    "    sts = response.json()[\"data\"]\n",
    "    stops = []\n",
    "    for stop in sts:\n",
    "        stops.append((stop[\"attributes\"][\"latitude\"], stop[\"attributes\"][\"longitude\"]))\n",
    "    return stops\n",
    "\n",
    "def plot_routes(routes, colors):\n",
    "    stop = get_stops(routes[0])[0]\n",
    "    route_map = folium.Map(location=stop, zoom_start=13)\n",
    "    for rid, color in zip(routes, colors):    \n",
    "        folium.PolyLine(locations=get_stops(rid), color=color, weight=5, opacity=0.8).add_to(route_map)\n",
    "        route_map.save(\"routes.html\")\n",
    "\n",
    "plot_routes(routes, colors)\n"
   ]
  }
 ],
 "metadata": {
  "kernelspec": {
   "display_name": "iot",
   "language": "python",
   "name": "python3"
  },
  "language_info": {
   "codemirror_mode": {
    "name": "ipython",
    "version": 3
   },
   "file_extension": ".py",
   "mimetype": "text/x-python",
   "name": "python",
   "nbconvert_exporter": "python",
   "pygments_lexer": "ipython3",
   "version": "3.10.12"
  }
 },
 "nbformat": 4,
 "nbformat_minor": 2
}
